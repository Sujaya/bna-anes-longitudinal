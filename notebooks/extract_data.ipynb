{
 "cells": [
  {
   "cell_type": "markdown",
   "metadata": {},
   "source": [
    "# ANES Longitudinal Dataset Extraction Code\n",
    "\n",
    "The purpose of this script is to take the original anes dataset and extract it into just the desired portions. Currently it simply extracts the thermometer data."
   ]
  },
  {
   "cell_type": "code",
   "execution_count": 13,
   "metadata": {
    "collapsed": true
   },
   "outputs": [],
   "source": [
    "import numpy as np\n",
    "import pandas as pd\n",
    "import matplotlib.pyplot as plt"
   ]
  },
  {
   "cell_type": "code",
   "execution_count": 19,
   "metadata": {
    "collapsed": false,
    "scrolled": true
   },
   "outputs": [
    {
     "name": "stdout",
     "output_type": "stream",
     "text": [
      "<class 'pandas.core.frame.DataFrame'>\n",
      "Int64Index: 43 entries, 0 to 42\n",
      "Data columns (total 2 columns):\n",
      "VarName        43 non-null object\n",
      "Description    43 non-null object\n",
      "dtypes: object(2)\n",
      "memory usage: 1.0+ KB\n"
     ]
    }
   ],
   "source": [
    "# determine which variables are relevant\n",
    "dfinfo = pd.read_excel('../data/thermometer_vars.xlsx')\n",
    "dfinfo.info()"
   ]
  },
  {
   "cell_type": "code",
   "execution_count": 76,
   "metadata": {
    "collapsed": false,
    "scrolled": true
   },
   "outputs": [],
   "source": [
    "# pull in whole dataset\n",
    "df = pd.read_stata('../data/anes_timeseries_cdf.dta', columns=dfinfo['VarName'], convert_categoricals=False)\n",
    "#df.info()\n",
    "#df['VCF0201']"
   ]
  },
  {
   "cell_type": "code",
   "execution_count": 79,
   "metadata": {
    "collapsed": false,
    "scrolled": true
   },
   "outputs": [
    {
     "name": "stdout",
     "output_type": "stream",
     "text": [
      "[  0.   2.   3. ...,  nan  nan  nan]\n",
      "<class 'pandas.core.frame.DataFrame'>\n",
      "Int64Index: 55674 entries, 0 to 55673\n",
      "Data columns (total 43 columns):\n",
      "VCF0004     55674 non-null float64\n",
      "VCF0006a    55674 non-null float64\n",
      "VCF0013     55674 non-null int64\n",
      "VCF0014     55674 non-null int64\n",
      "VCF0140a    55012 non-null float64\n",
      "VCF0301     55012 non-null float64\n",
      "VCF0201     15486 non-null float64\n",
      "VCF0202     15486 non-null float64\n",
      "VCF0203     12690 non-null float64\n",
      "VCF0204     28920 non-null float64\n",
      "VCF0205     20749 non-null float64\n",
      "VCF0206     43980 non-null float64\n",
      "VCF0207     39824 non-null float64\n",
      "VCF0208     15714 non-null float64\n",
      "VCF0209     35618 non-null float64\n",
      "VCF0210     41055 non-null float64\n",
      "VCF0211     43980 non-null float64\n",
      "VCF0212     43980 non-null float64\n",
      "VCF0213     34039 non-null float64\n",
      "VCF0214     13368 non-null float64\n",
      "VCF0215     14082 non-null float64\n",
      "VCF0216     13946 non-null float64\n",
      "VCF0217     26919 non-null float64\n",
      "VCF0218     32319 non-null float64\n",
      "VCF0219     19847 non-null float64\n",
      "VCF0220     31075 non-null float64\n",
      "VCF0221     5289 non-null float64\n",
      "VCF0222     14761 non-null float64\n",
      "VCF0223     36636 non-null float64\n",
      "VCF0224     32319 non-null float64\n",
      "VCF0225     23863 non-null float64\n",
      "VCF0226     9354 non-null float64\n",
      "VCF0227     15251 non-null float64\n",
      "VCF0228     21900 non-null float64\n",
      "VCF0229     18480 non-null float64\n",
      "VCF0230     6277 non-null float64\n",
      "VCF0231     20619 non-null float64\n",
      "VCF0232     24338 non-null float64\n",
      "VCF0233     15768 non-null float64\n",
      "VCF0234     20800 non-null float64\n",
      "VCF0235     9649 non-null float64\n",
      "VCF0236     5894 non-null float64\n",
      "VCF0253     17291 non-null float64\n",
      "dtypes: float64(41), int64(2)\n",
      "memory usage: 18.7 MB\n"
     ]
    }
   ],
   "source": [
    "# convert data types to be numeric\n",
    "print(np.unique(df['VCF0201']))\n",
    "df.apply(pd.to_numeric).info()"
   ]
  },
  {
   "cell_type": "code",
   "execution_count": 84,
   "metadata": {
    "collapsed": false
   },
   "outputs": [],
   "source": [
    "df.to_hdf('../data/anes_timeseries_thermometer.h5', 'main')\n",
    "df.iloc[1:100,:].to_csv('../data/anes_timeseries_thermometer_preview.csv')"
   ]
  }
 ],
 "metadata": {
  "kernelspec": {
   "display_name": "Python 3",
   "language": "python",
   "name": "python3"
  },
  "language_info": {
   "codemirror_mode": {
    "name": "ipython",
    "version": 3
   },
   "file_extension": ".py",
   "mimetype": "text/x-python",
   "name": "python",
   "nbconvert_exporter": "python",
   "pygments_lexer": "ipython3",
   "version": "3.4.3"
  }
 },
 "nbformat": 4,
 "nbformat_minor": 1
}
